{
 "cells": [
  {
   "cell_type": "code",
   "execution_count": 30,
   "metadata": {},
   "outputs": [],
   "source": [
    "import cv2\n",
    "import numpy as np\n",
    "import os"
   ]
  },
  {
   "cell_type": "code",
   "execution_count": 31,
   "metadata": {},
   "outputs": [],
   "source": [
    "def func(impath):\n",
    "    frame = cv2.imread(impath)\n",
    "\n",
    "    gray_frame = cv2.cvtColor(frame, cv2.COLOR_BGR2GRAY)\n",
    "    blur = cv2.GaussianBlur(gray_frame, (5, 5), 2)\n",
    "\n",
    "    thresh = cv2.adaptiveThreshold(blur, 255, cv2.ADAPTIVE_THRESH_GAUSSIAN_C, cv2.THRESH_BINARY, 11, 2)\n",
    "    ret, res = cv2.threshold(thresh, 70, 255, cv2.THRESH_BINARY + cv2.THRESH_OTSU)\n",
    "    return res"
   ]
  },
  {
   "cell_type": "code",
   "execution_count": 32,
   "metadata": {},
   "outputs": [],
   "source": [
    "if not os.path.exists(\"dataset\"):\n",
    "    os.makedirs(\"dataset\")\n",
    "if not os.path.exists(\"dataset/train\"):\n",
    "    os.makedirs(\"dataset/train\")\n",
    "if not os.path.exists(\"dataset/test\"):\n",
    "    os.makedirs(\"dataset/test\")\n"
   ]
  },
  {
   "cell_type": "code",
   "execution_count": 33,
   "metadata": {},
   "outputs": [
    {
     "data": {
      "text/plain": [
       "['label']"
      ]
     },
     "execution_count": 33,
     "metadata": {},
     "output_type": "execute_result"
    }
   ],
   "source": [
    "path = \"train\"\n",
    "path1 = \"dataset\"\n",
    "a = ['label']\n",
    "a"
   ]
  },
  {
   "cell_type": "code",
   "execution_count": 34,
   "metadata": {},
   "outputs": [],
   "source": [
    "for i in range(64 * 64):\n",
    "    a.append(\"pixel\" + str(i))\n",
    "\n",
    "\n",
    "label = 0\n",
    "var = 0\n",
    "c1 = 0\n",
    "c2 = 0\n"
   ]
  },
  {
   "cell_type": "code",
   "execution_count": 40,
   "metadata": {},
   "outputs": [
    {
     "name": "stdout",
     "output_type": "stream",
     "text": [
      "test\n",
      "train\n",
      "0\n",
      "A\n",
      "B\n",
      "C\n",
      "D\n",
      "E\n",
      "F\n",
      "G\n",
      "H\n",
      "I\n",
      "J\n",
      "K\n",
      "L\n",
      "M\n",
      "N\n",
      "O\n",
      "P\n",
      "Q\n",
      "R\n",
      "S\n",
      "T\n",
      "U\n",
      "V\n",
      "W\n",
      "X\n",
      "Y\n",
      "Z\n",
      "0\n",
      "A\n",
      "B\n",
      "C\n",
      "D\n",
      "E\n",
      "F\n",
      "G\n",
      "H\n",
      "I\n",
      "J\n",
      "K\n",
      "L\n",
      "M\n",
      "N\n",
      "O\n",
      "P\n",
      "Q\n",
      "R\n",
      "S\n",
      "T\n",
      "U\n",
      "V\n",
      "W\n",
      "X\n",
      "Y\n",
      "Z\n",
      "0\n",
      "0\n",
      "0\n"
     ]
    }
   ],
   "source": [
    "for i in range(64 * 64):\n",
    "    a.append(\"pixel\" + str(i))\n",
    "\n",
    "\n",
    "label = 0\n",
    "var = 0\n",
    "c1 = 0\n",
    "c2 = 0\n",
    "for (dirpath, dirnames, filenames) in os.walk(\"C:/Users/baigj/Desktop/sign/dataset\"):\n",
    "    for dirname in dirnames:\n",
    "        print(dirname)\n",
    "        for (direcpath, direcnames, files) in os.walk(\"C:/Users/baigj/Desktop/sign/dataset\" + dirname):\n",
    "            if not os.path.exists(path1 + \"/train/\" + dirname):\n",
    "                os.makedirs(path1 + \"/train/\" + dirname)\n",
    "            if not os.path.exists(path1 + \"/test/\" + dirname):\n",
    "                os.makedirs(path1 + \"/test/\" + dirname)\n",
    "\n",
    "            num=0.75*len(files)\n",
    "\n",
    "            i = 0\n",
    "            for file in files:\n",
    "                var += 1\n",
    "                actual_path = \"C:/Users/baigj/Desktop/sign/\" + dirname + \"/\" + file\n",
    "                actual_path_train = path1 + \"/\" + \"train/\" + dirname + \"/\" + file\n",
    "                actual_path_test = path1 + \"/\" + \"test/\" + dirname + \"/\" + file\n",
    "                img = cv2.imread(actual_path)\n",
    "                bw_image = func(actual_path)\n",
    "                if i < num:\n",
    "                    c1 += 1\n",
    "                    cv2.imwrite(actual_path_train, bw_image)\n",
    "                else:\n",
    "                    c2 += 1\n",
    "                    cv2.imwrite(actual_path_test, bw_image)\n",
    "\n",
    "                i = i + 1\n",
    "\n",
    "        label = label + 1\n",
    "print(var)\n",
    "print(c1)\n",
    "print(c2)"
   ]
  },
  {
   "cell_type": "code",
   "execution_count": 41,
   "metadata": {},
   "outputs": [
    {
     "name": "stdout",
     "output_type": "stream",
     "text": [
      "C:/Users/baigj/Desktop/sign/.ipynb_checkpoints/preprocessing-checkpoint.ipynb\n"
     ]
    }
   ],
   "source": [
    "print(actual_path)"
   ]
  },
  {
   "cell_type": "code",
   "execution_count": 42,
   "metadata": {},
   "outputs": [
    {
     "data": {
      "text/plain": [
       "0"
      ]
     },
     "execution_count": 42,
     "metadata": {},
     "output_type": "execute_result"
    }
   ],
   "source": [
    "c2"
   ]
  },
  {
   "cell_type": "code",
   "execution_count": 43,
   "metadata": {},
   "outputs": [
    {
     "data": {
      "text/plain": [
       "0"
      ]
     },
     "execution_count": 43,
     "metadata": {},
     "output_type": "execute_result"
    }
   ],
   "source": [
    "c1"
   ]
  },
  {
   "cell_type": "code",
   "execution_count": 44,
   "metadata": {},
   "outputs": [
    {
     "data": {
      "text/plain": [
       "0"
      ]
     },
     "execution_count": 44,
     "metadata": {},
     "output_type": "execute_result"
    }
   ],
   "source": [
    "var"
   ]
  },
  {
   "cell_type": "code",
   "execution_count": null,
   "metadata": {},
   "outputs": [],
   "source": []
  }
 ],
 "metadata": {
  "kernelspec": {
   "display_name": "Python 3",
   "language": "python",
   "name": "python3"
  },
  "language_info": {
   "codemirror_mode": {
    "name": "ipython",
    "version": 3
   },
   "file_extension": ".py",
   "mimetype": "text/x-python",
   "name": "python",
   "nbconvert_exporter": "python",
   "pygments_lexer": "ipython3",
   "version": "3.7.4"
  }
 },
 "nbformat": 4,
 "nbformat_minor": 4
}
