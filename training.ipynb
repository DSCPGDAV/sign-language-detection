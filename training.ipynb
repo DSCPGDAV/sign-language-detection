{
 "cells": [
  {
   "cell_type": "code",
   "execution_count": 3,
   "metadata": {},
   "outputs": [
    {
     "name": "stdout",
     "output_type": "stream",
     "text": [
      "Collecting keras\n",
      "  Using cached Keras-2.4.3-py2.py3-none-any.whl (36 kB)\n",
      "Requirement already satisfied: h5py in c:\\users\\baigj\\anaconda3\\envs\\tensorflow1\\lib\\site-packages (from keras) (3.1.0)\n",
      "Requirement already satisfied: scipy>=0.14 in c:\\users\\baigj\\anaconda3\\envs\\tensorflow1\\lib\\site-packages (from keras) (1.5.2)\n",
      "Requirement already satisfied: numpy>=1.9.1 in c:\\users\\baigj\\anaconda3\\envs\\tensorflow1\\lib\\site-packages (from keras) (1.18.5)\n",
      "Collecting cached-property\n",
      "  Using cached cached_property-1.5.2-py2.py3-none-any.whl (7.6 kB)\n",
      "Collecting pyyaml\n",
      "  Downloading PyYAML-5.4-cp37-cp37m-win_amd64.whl (209 kB)\n",
      "Installing collected packages: cached-property, pyyaml, keras\n",
      "Successfully installed cached-property-1.5.2 keras-2.4.3 pyyaml-5.4\n",
      "Note: you may need to restart the kernel to use updated packages.\n"
     ]
    }
   ],
   "source": [
    "pip install keras"
   ]
  },
  {
   "cell_type": "code",
   "execution_count": 29,
   "metadata": {},
   "outputs": [],
   "source": [
    "# Importing the Keras libraries and packages\n",
    "from keras.models import Sequential\n",
    "from keras.layers import Convolution2D\n",
    "from keras.layers import MaxPooling2D\n",
    "from keras.layers import Flatten\n",
    "from keras.layers import Dense , Dropout\n",
    "import os\n",
    "os.environ[\"CUDA_VISIBLE_DEVICES\"] = \"1\"\n",
    "spe=12845//10\n",
    "vs=4268//10"
   ]
  },
  {
   "cell_type": "code",
   "execution_count": 30,
   "metadata": {},
   "outputs": [],
   "source": [
    "# Step 1 - Building the CNN\n",
    "\n",
    "# Initializing the CNN\n",
    "classifier = Sequential()\n",
    "\n",
    "# First convolution layer and pooling\n",
    "classifier.add(Convolution2D(32, (3, 3), input_shape=(128, 128, 1), activation='relu'))\n",
    "classifier.add(MaxPooling2D(pool_size=(2, 2)))\n",
    "# Second convolution layer and pooling\n",
    "classifier.add(Convolution2D(32, (3, 3), activation='relu'))\n",
    "# input_shape is going to be the pooled feature maps from the previous convolution layer\n",
    "classifier.add(MaxPooling2D(pool_size=(2, 2)))\n",
    "#classifier.add(Convolution2D(32, (3, 3), activation='relu'))\n",
    "# input_shape is going to be the pooled feature maps from the previous convolution layer\n",
    "#classifier.add(MaxPooling2D(pool_size=(2, 2)))\n",
    "\n",
    "# Flattening the layers\n",
    "classifier.add(Flatten())"
   ]
  },
  {
   "cell_type": "code",
   "execution_count": 31,
   "metadata": {},
   "outputs": [],
   "source": [
    "# Adding a fully connected layer\n",
    "classifier.add(Dense(units=128, activation='relu'))\n",
    "classifier.add(Dropout(0.40))\n",
    "classifier.add(Dense(units=96, activation='relu'))\n",
    "classifier.add(Dropout(0.40))\n",
    "classifier.add(Dense(units=64, activation='relu'))\n",
    "classifier.add(Dense(units=27, activation='softmax')) # softmax for more than 2"
   ]
  },
  {
   "cell_type": "code",
   "execution_count": 32,
   "metadata": {},
   "outputs": [],
   "source": [
    "# Compiling the CNN\n",
    "classifier.compile(optimizer='adam', loss='categorical_crossentropy', metrics=['accuracy']) # categorical_crossentropy for more than 2\n"
   ]
  },
  {
   "cell_type": "code",
   "execution_count": 33,
   "metadata": {},
   "outputs": [
    {
     "name": "stdout",
     "output_type": "stream",
     "text": [
      "Model: \"sequential_2\"\n",
      "_________________________________________________________________\n",
      "Layer (type)                 Output Shape              Param #   \n",
      "=================================================================\n",
      "conv2d_4 (Conv2D)            (None, 126, 126, 32)      320       \n",
      "_________________________________________________________________\n",
      "max_pooling2d_4 (MaxPooling2 (None, 63, 63, 32)        0         \n",
      "_________________________________________________________________\n",
      "conv2d_5 (Conv2D)            (None, 61, 61, 32)        9248      \n",
      "_________________________________________________________________\n",
      "max_pooling2d_5 (MaxPooling2 (None, 30, 30, 32)        0         \n",
      "_________________________________________________________________\n",
      "flatten_2 (Flatten)          (None, 28800)             0         \n",
      "_________________________________________________________________\n",
      "dense_12 (Dense)             (None, 128)               3686528   \n",
      "_________________________________________________________________\n",
      "dropout_6 (Dropout)          (None, 128)               0         \n",
      "_________________________________________________________________\n",
      "dense_13 (Dense)             (None, 96)                12384     \n",
      "_________________________________________________________________\n",
      "dropout_7 (Dropout)          (None, 96)                0         \n",
      "_________________________________________________________________\n",
      "dense_14 (Dense)             (None, 64)                6208      \n",
      "_________________________________________________________________\n",
      "dense_15 (Dense)             (None, 27)                1755      \n",
      "=================================================================\n",
      "Total params: 3,716,443\n",
      "Trainable params: 3,716,443\n",
      "Non-trainable params: 0\n",
      "_________________________________________________________________\n"
     ]
    }
   ],
   "source": [
    "# Step 2 - Preparing the train/test data and training the model\n",
    "classifier.summary()"
   ]
  },
  {
   "cell_type": "code",
   "execution_count": 34,
   "metadata": {},
   "outputs": [
    {
     "name": "stdout",
     "output_type": "stream",
     "text": [
      "Found 12845 images belonging to 27 classes.\n",
      "Found 4268 images belonging to 27 classes.\n",
      "Epoch 1/10\n",
      "1284/1284 [==============================] - 148s 116ms/step - loss: 2.1551 - accuracy: 0.3228 - val_loss: 0.5856 - val_accuracy: 0.8031\n",
      "Epoch 2/10\n",
      "1284/1284 [==============================] - 157s 122ms/step - loss: 1.0960 - accuracy: 0.6110 - val_loss: 0.2175 - val_accuracy: 0.9230\n",
      "Epoch 3/10\n",
      "1284/1284 [==============================] - 177s 138ms/step - loss: 0.7941 - accuracy: 0.7231 - val_loss: 0.1320 - val_accuracy: 0.9697\n",
      "Epoch 4/10\n",
      "1284/1284 [==============================] - 182s 141ms/step - loss: 0.6224 - accuracy: 0.7864 - val_loss: 0.0732 - val_accuracy: 0.9817\n",
      "Epoch 5/10\n",
      "1284/1284 [==============================] - 176s 137ms/step - loss: 0.5237 - accuracy: 0.8225 - val_loss: 0.0424 - val_accuracy: 0.9946\n",
      "Epoch 6/10\n",
      "1284/1284 [==============================] - 169s 131ms/step - loss: 0.4488 - accuracy: 0.8481 - val_loss: 0.0331 - val_accuracy: 0.9955\n",
      "Epoch 7/10\n",
      "1284/1284 [==============================] - 175s 136ms/step - loss: 0.3969 - accuracy: 0.8686 - val_loss: 0.0223 - val_accuracy: 0.9962\n",
      "Epoch 8/10\n",
      "1284/1284 [==============================] - 165s 129ms/step - loss: 0.3632 - accuracy: 0.8784 - val_loss: 0.0116 - val_accuracy: 0.9977\n",
      "Epoch 9/10\n",
      "1284/1284 [==============================] - 168s 131ms/step - loss: 0.3429 - accuracy: 0.8860 - val_loss: 0.0143 - val_accuracy: 0.9962\n",
      "Epoch 10/10\n",
      "1284/1284 [==============================] - 170s 132ms/step - loss: 0.3184 - accuracy: 0.8958 - val_loss: 0.0120 - val_accuracy: 0.9972\n"
     ]
    },
    {
     "data": {
      "text/plain": [
       "<tensorflow.python.keras.callbacks.History at 0x182459a4088>"
      ]
     },
     "execution_count": 34,
     "metadata": {},
     "output_type": "execute_result"
    }
   ],
   "source": [
    "# Code copied from - https://keras.io/preprocessing/image/\n",
    "from keras.preprocessing.image import ImageDataGenerator\n",
    "\n",
    "train_datagen = ImageDataGenerator(\n",
    "        rescale=1./255,\n",
    "        shear_range=0.2,\n",
    "        zoom_range=0.2,\n",
    "        horizontal_flip=True)\n",
    "\n",
    "test_datagen = ImageDataGenerator(rescale=1./255)\n",
    "\n",
    "training_set = train_datagen.flow_from_directory('/Users/baigj/Desktop/sign/dataset/train',\n",
    "                                                 target_size=(128, 128),\n",
    "                                                 batch_size=10,\n",
    "                                                 color_mode='grayscale',\n",
    "                                                 class_mode='categorical')\n",
    "\n",
    "test_set = test_datagen.flow_from_directory('/Users/baigj/Desktop/sign/dataset/test',\n",
    "                                            target_size=(128 , 128),\n",
    "                                            batch_size=10,\n",
    "                                            color_mode='grayscale',\n",
    "                                            class_mode='categorical') \n",
    "classifier.fit_generator(\n",
    "        training_set,\n",
    "        steps_per_epoch=spe, # No of images in training set\n",
    "        epochs=10,\n",
    "        validation_data=test_set,\n",
    "        validation_steps=vs) # No of images in test set"
   ]
  },
  {
   "cell_type": "code",
   "execution_count": 35,
   "metadata": {},
   "outputs": [
    {
     "name": "stdout",
     "output_type": "stream",
     "text": [
      "Model Saved\n",
      "Weights saved\n"
     ]
    }
   ],
   "source": [
    "# Saving the model\n",
    "model_json = classifier.to_json()\n",
    "with open(\"model-bw.json\", \"w\") as json_file:\n",
    "    json_file.write(model_json)\n",
    "print('Model Saved')\n",
    "classifier.save_weights('model-bw.h5')\n",
    "print('Weights saved')"
   ]
  },
  {
   "cell_type": "code",
   "execution_count": null,
   "metadata": {},
   "outputs": [],
   "source": []
  }
 ],
 "metadata": {
  "kernelspec": {
   "display_name": "Python 3",
   "language": "python",
   "name": "python3"
  },
  "language_info": {
   "codemirror_mode": {
    "name": "ipython",
    "version": 3
   },
   "file_extension": ".py",
   "mimetype": "text/x-python",
   "name": "python",
   "nbconvert_exporter": "python",
   "pygments_lexer": "ipython3",
   "version": "3.7.4"
  }
 },
 "nbformat": 4,
 "nbformat_minor": 4
}
